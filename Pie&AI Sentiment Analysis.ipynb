{
  "nbformat": 4,
  "nbformat_minor": 0,
  "metadata": {
    "colab": {
      "name": "Pie&AI--Sentiment_Analysis.ipynb",
      "provenance": [],
      "mount_file_id": "1PJ9NQgTEScKHoSRSJFeix7R6dELYoMko",
      "authorship_tag": "ABX9TyMtjb4MNUEZYUaTnnmS2w+H",
      "include_colab_link": true
    },
    "kernelspec": {
      "name": "python3",
      "display_name": "Python 3"
    }
  },
  "cells": [
    {
      "cell_type": "markdown",
      "metadata": {
        "id": "view-in-github",
        "colab_type": "text"
      },
      "source": [
        "<a href=\"https://colab.research.google.com/github/debolina201/Basic-Sentiment-Analysis-with-ML/blob/master/Pie%26AI%20Sentiment%20Analysis.ipynb\" target=\"_parent\"><img src=\"https://colab.research.google.com/assets/colab-badge.svg\" alt=\"Open In Colab\"/></a>"
      ]
    },
    {
      "cell_type": "markdown",
      "metadata": {
        "id": "rYSv548I98uU"
      },
      "source": [
        "# 1: Loading and exploring the dataset"
      ]
    },
    {
      "cell_type": "code",
      "metadata": {
        "colab": {
          "base_uri": "https://localhost:8080/"
        },
        "id": "RqSer30Y87o3",
        "outputId": "a3fc08df-4cd4-45bc-98de-730055cc27a2"
      },
      "source": [
        "import pandas as pd\r\n",
        "\r\n",
        "data = pd.read_csv('/content/drive/MyDrive/Pie and AI Session/Sentiment Analysis/IMDB Dataset.csv')\r\n",
        "print(data.shape)"
      ],
      "execution_count": null,
      "outputs": [
        {
          "output_type": "stream",
          "text": [
            "(50000, 2)\n"
          ],
          "name": "stdout"
        }
      ]
    },
    {
      "cell_type": "code",
      "metadata": {
        "colab": {
          "base_uri": "https://localhost:8080/",
          "height": 206
        },
        "id": "HyNlLPdxHYpf",
        "outputId": "fef5e373-7bc0-4e8e-9159-4e59669d524f"
      },
      "source": [
        "data.head()"
      ],
      "execution_count": null,
      "outputs": [
        {
          "output_type": "execute_result",
          "data": {
            "text/html": [
              "<div>\n",
              "<style scoped>\n",
              "    .dataframe tbody tr th:only-of-type {\n",
              "        vertical-align: middle;\n",
              "    }\n",
              "\n",
              "    .dataframe tbody tr th {\n",
              "        vertical-align: top;\n",
              "    }\n",
              "\n",
              "    .dataframe thead th {\n",
              "        text-align: right;\n",
              "    }\n",
              "</style>\n",
              "<table border=\"1\" class=\"dataframe\">\n",
              "  <thead>\n",
              "    <tr style=\"text-align: right;\">\n",
              "      <th></th>\n",
              "      <th>review</th>\n",
              "      <th>sentiment</th>\n",
              "    </tr>\n",
              "  </thead>\n",
              "  <tbody>\n",
              "    <tr>\n",
              "      <th>0</th>\n",
              "      <td>One of the other reviewers has mentioned that ...</td>\n",
              "      <td>positive</td>\n",
              "    </tr>\n",
              "    <tr>\n",
              "      <th>1</th>\n",
              "      <td>A wonderful little production. &lt;br /&gt;&lt;br /&gt;The...</td>\n",
              "      <td>positive</td>\n",
              "    </tr>\n",
              "    <tr>\n",
              "      <th>2</th>\n",
              "      <td>I thought this was a wonderful way to spend ti...</td>\n",
              "      <td>positive</td>\n",
              "    </tr>\n",
              "    <tr>\n",
              "      <th>3</th>\n",
              "      <td>Basically there's a family where a little boy ...</td>\n",
              "      <td>negative</td>\n",
              "    </tr>\n",
              "    <tr>\n",
              "      <th>4</th>\n",
              "      <td>Petter Mattei's \"Love in the Time of Money\" is...</td>\n",
              "      <td>positive</td>\n",
              "    </tr>\n",
              "  </tbody>\n",
              "</table>\n",
              "</div>"
            ],
            "text/plain": [
              "                                              review sentiment\n",
              "0  One of the other reviewers has mentioned that ...  positive\n",
              "1  A wonderful little production. <br /><br />The...  positive\n",
              "2  I thought this was a wonderful way to spend ti...  positive\n",
              "3  Basically there's a family where a little boy ...  negative\n",
              "4  Petter Mattei's \"Love in the Time of Money\" is...  positive"
            ]
          },
          "metadata": {
            "tags": []
          },
          "execution_count": 2
        }
      ]
    },
    {
      "cell_type": "code",
      "metadata": {
        "colab": {
          "base_uri": "https://localhost:8080/",
          "height": 189
        },
        "id": "V2NqyzjMHebm",
        "outputId": "687f2c70-6cdd-4d47-de30-d8fe009ea1f4"
      },
      "source": [
        "data.review[1] # a positive review"
      ],
      "execution_count": null,
      "outputs": [
        {
          "output_type": "execute_result",
          "data": {
            "application/vnd.google.colaboratory.intrinsic+json": {
              "type": "string"
            },
            "text/plain": [
              "'A wonderful little production. <br /><br />The filming technique is very unassuming- very old-time-BBC fashion and gives a comforting, and sometimes discomforting, sense of realism to the entire piece. <br /><br />The actors are extremely well chosen- Michael Sheen not only \"has got all the polari\" but he has all the voices down pat too! You can truly see the seamless editing guided by the references to Williams\\' diary entries, not only is it well worth the watching but it is a terrificly written and performed piece. A masterful production about one of the great master\\'s of comedy and his life. <br /><br />The realism really comes home with the little things: the fantasy of the guard which, rather than use the traditional \\'dream\\' techniques remains solid then disappears. It plays on our knowledge and our senses, particularly with the scenes concerning Orton and Halliwell and the sets (particularly of their flat with Halliwell\\'s murals decorating every surface) are terribly well done.'"
            ]
          },
          "metadata": {
            "tags": []
          },
          "execution_count": 3
        }
      ]
    },
    {
      "cell_type": "code",
      "metadata": {
        "colab": {
          "base_uri": "https://localhost:8080/",
          "height": 151
        },
        "id": "r5_oPaOMHi3s",
        "outputId": "dd545225-7b88-40b8-bcab-5629e5c70933"
      },
      "source": [
        "data.review[3] # a negative review"
      ],
      "execution_count": null,
      "outputs": [
        {
          "output_type": "execute_result",
          "data": {
            "application/vnd.google.colaboratory.intrinsic+json": {
              "type": "string"
            },
            "text/plain": [
              "\"Basically there's a family where a little boy (Jake) thinks there's a zombie in his closet & his parents are fighting all the time.<br /><br />This movie is slower than a soap opera... and suddenly, Jake decides to become Rambo and kill the zombie.<br /><br />OK, first of all when you're going to make a film you must Decide if its a thriller or a drama! As a drama the movie is watchable. Parents are divorcing & arguing like in real life. And then we have Jake with his closet which totally ruins all the film! I expected to see a BOOGEYMAN similar movie, and instead i watched a drama with some meaningless thriller spots.<br /><br />3 out of 10 just for the well playing parents & descent dialogs. As for the shots with Jake: just ignore them.\""
            ]
          },
          "metadata": {
            "tags": []
          },
          "execution_count": 4
        }
      ]
    },
    {
      "cell_type": "code",
      "metadata": {
        "colab": {
          "base_uri": "https://localhost:8080/"
        },
        "id": "8B9CD1FrPMWA",
        "outputId": "38b59801-c3bf-4bb7-d073-9fe7a2c490c8"
      },
      "source": [
        "# Encoding the labels\r\n",
        "\r\n",
        "from sklearn import preprocessing\r\n",
        "le = preprocessing.LabelEncoder()\r\n",
        "\r\n",
        "le.fit(data.sentiment)\r\n",
        "\r\n",
        "y = le.transform(data.sentiment)\r\n",
        "print(le.classes_)\r\n",
        "print(y)"
      ],
      "execution_count": null,
      "outputs": [
        {
          "output_type": "stream",
          "text": [
            "['negative' 'positive']\n",
            "[1 1 1 ... 0 0 0]\n"
          ],
          "name": "stdout"
        }
      ]
    },
    {
      "cell_type": "markdown",
      "metadata": {
        "id": "ahFR0AwhJBtl"
      },
      "source": [
        "## Generating Word Clouds"
      ]
    },
    {
      "cell_type": "code",
      "metadata": {
        "id": "9ckn86yKIES9"
      },
      "source": [
        "from wordcloud import WordCloud\r\n",
        "import matplotlib.pyplot as plt"
      ],
      "execution_count": null,
      "outputs": []
    },
    {
      "cell_type": "code",
      "metadata": {
        "colab": {
          "base_uri": "https://localhost:8080/",
          "height": 198
        },
        "id": "QWVVtd0UIqQy",
        "outputId": "a1998c63-6d6d-4f00-f5c9-e3e268e0775b"
      },
      "source": [
        "pos_cloud = WordCloud(background_color=\"white\").generate(data.review[1])\r\n",
        "\r\n",
        "# Create a figure of the generated cloud\r\n",
        "plt.imshow(pos_cloud, interpolation='bilinear')  \r\n",
        "plt.axis('off')\r\n",
        "\r\n",
        "# Display the figure\r\n",
        "plt.show()"
      ],
      "execution_count": null,
      "outputs": [
        {
          "output_type": "display_data",
          "data": {
            "image/png": "[encoded data removed]",
            "text/plain": [
              "<Figure size 432x288 with 1 Axes>"
            ]
          },
          "metadata": {
            "tags": [],
            "needs_background": "light"
          }
        }
      ]
    },
    {
      "cell_type": "code",
      "metadata": {
        "colab": {
          "base_uri": "https://localhost:8080/",
          "height": 198
        },
        "id": "-lLBrFpkJNta",
        "outputId": "cda00527-7021-4144-b6a5-3eeb99e7aba7"
      },
      "source": [
        "neg_cloud = WordCloud(background_color=\"white\").generate(data.review[3])\r\n",
        "\r\n",
        "# Create a figure of the generated cloud\r\n",
        "plt.imshow(neg_cloud, interpolation='bilinear')  \r\n",
        "plt.axis('off')\r\n",
        "\r\n",
        "# Display the figure\r\n",
        "plt.show()"
      ],
      "execution_count": null,
      "outputs": [
        {
          "output_type": "display_data",
          "data": {
            "image/png": "[encoded data removed]",
            "text/plain": [
              "<Figure size 432x288 with 1 Axes>"
            ]
          },
          "metadata": {
            "tags": [],
            "needs_background": "light"
          }
        }
      ]
    },
    {
      "cell_type": "markdown",
      "metadata": {
        "id": "ep3MVTQMJ07B"
      },
      "source": [
        "# TEXT PREPROCESSING\r\n",
        "\r\n",
        "* Lowercasing\r\n",
        "* Punctuation removal\r\n",
        "* Tokenization\r\n",
        "* Stop-word removal\r\n",
        "* Stemming"
      ]
    },
    {
      "cell_type": "code",
      "metadata": {
        "colab": {
          "base_uri": "https://localhost:8080/"
        },
        "id": "Q-xVQLIlL2PL",
        "outputId": "f877cbda-c3c2-4b6b-9b75-0f6ae7cd1aef"
      },
      "source": [
        "import nltk\r\n",
        "import re\r\n",
        "import string\r\n",
        "\r\n",
        "nltk.download('punkt')\r\n",
        "nltk.download('stopwords')\r\n",
        "nltk.download('wordnet')\r\n",
        "nltk.download('averaged_perceptron_tagger')\r\n",
        "\r\n",
        "from nltk.tokenize import word_tokenize\r\n",
        "from nltk.corpus import stopwords\r\n",
        "from nltk.corpus import wordnet\r\n",
        "from nltk.stem import WordNetLemmatizer\r\n",
        "from nltk.stem import PorterStemmer\r\n",
        "\r\n",
        "stop = stopwords.words('english')\r\n",
        "punc = string.punctuation"
      ],
      "execution_count": null,
      "outputs": [
        {
          "output_type": "stream",
          "text": [
            "[nltk_data] Downloading package punkt to /root/nltk_data...\n",
            "[nltk_data]   Package punkt is already up-to-date!\n",
            "[nltk_data] Downloading package stopwords to /root/nltk_data...\n",
            "[nltk_data]   Package stopwords is already up-to-date!\n",
            "[nltk_data] Downloading package wordnet to /root/nltk_data...\n",
            "[nltk_data]   Package wordnet is already up-to-date!\n",
            "[nltk_data] Downloading package averaged_perceptron_tagger to\n",
            "[nltk_data]     /root/nltk_data...\n",
            "[nltk_data]   Package averaged_perceptron_tagger is already up-to-\n",
            "[nltk_data]       date!\n"
          ],
          "name": "stdout"
        }
      ]
    },
    {
      "cell_type": "code",
      "metadata": {
        "id": "1kB62jIfLo5C"
      },
      "source": [
        "data['review'] = data['review'].str.lower() #lowercasing\r\n",
        "data['review'] = data['review'].str.replace('[^a-z\\s]', '') #removing non-alphabetical chars"
      ],
      "execution_count": null,
      "outputs": []
    },
    {
      "cell_type": "code",
      "metadata": {
        "colab": {
          "base_uri": "https://localhost:8080/",
          "height": 149
        },
        "id": "I-Kg13tvMPPj",
        "outputId": "21591da5-7b6c-4fbc-83ce-e8b6f8458e01"
      },
      "source": [
        "data.review[3]"
      ],
      "execution_count": null,
      "outputs": [
        {
          "output_type": "execute_result",
          "data": {
            "application/vnd.google.colaboratory.intrinsic+json": {
              "type": "string"
            },
            "text/plain": [
              "'basically theres a family where a little boy jake thinks theres a zombie in his closet  his parents are fighting all the timebr br this movie is slower than a soap opera and suddenly jake decides to become rambo and kill the zombiebr br ok first of all when youre going to make a film you must decide if its a thriller or a drama as a drama the movie is watchable parents are divorcing  arguing like in real life and then we have jake with his closet which totally ruins all the film i expected to see a boogeyman similar movie and instead i watched a drama with some meaningless thriller spotsbr br  out of  just for the well playing parents  descent dialogs as for the shots with jake just ignore them'"
            ]
          },
          "metadata": {
            "tags": []
          },
          "execution_count": 10
        }
      ]
    },
    {
      "cell_type": "code",
      "metadata": {
        "colab": {
          "base_uri": "https://localhost:8080/"
        },
        "id": "suoxGjO-MR4l",
        "outputId": "29af3601-b15c-4bdc-c7b9-8cfedbdebf12"
      },
      "source": [
        "data['review'] = data['review'].apply(word_tokenize)\r\n",
        "print(data.review[3])"
      ],
      "execution_count": null,
      "outputs": [
        {
          "output_type": "stream",
          "text": [
            "['basically', 'theres', 'a', 'family', 'where', 'a', 'little', 'boy', 'jake', 'thinks', 'theres', 'a', 'zombie', 'in', 'his', 'closet', 'his', 'parents', 'are', 'fighting', 'all', 'the', 'timebr', 'br', 'this', 'movie', 'is', 'slower', 'than', 'a', 'soap', 'opera', 'and', 'suddenly', 'jake', 'decides', 'to', 'become', 'rambo', 'and', 'kill', 'the', 'zombiebr', 'br', 'ok', 'first', 'of', 'all', 'when', 'youre', 'going', 'to', 'make', 'a', 'film', 'you', 'must', 'decide', 'if', 'its', 'a', 'thriller', 'or', 'a', 'drama', 'as', 'a', 'drama', 'the', 'movie', 'is', 'watchable', 'parents', 'are', 'divorcing', 'arguing', 'like', 'in', 'real', 'life', 'and', 'then', 'we', 'have', 'jake', 'with', 'his', 'closet', 'which', 'totally', 'ruins', 'all', 'the', 'film', 'i', 'expected', 'to', 'see', 'a', 'boogeyman', 'similar', 'movie', 'and', 'instead', 'i', 'watched', 'a', 'drama', 'with', 'some', 'meaningless', 'thriller', 'spotsbr', 'br', 'out', 'of', 'just', 'for', 'the', 'well', 'playing', 'parents', 'descent', 'dialogs', 'as', 'for', 'the', 'shots', 'with', 'jake', 'just', 'ignore', 'them']\n"
          ],
          "name": "stdout"
        }
      ]
    },
    {
      "cell_type": "code",
      "metadata": {
        "id": "1Ey6N7meMyBV"
      },
      "source": [
        "stemmer = PorterStemmer()\r\n",
        "\r\n",
        "def clean(df):\r\n",
        "  cleaned_tokens = []\r\n",
        "  for word in df:\r\n",
        "    if(word not in stop and word not in punc):\r\n",
        "      cleaned_tokens.append(stemmer.stem(word))\r\n",
        "  return cleaned_tokens\r\n",
        "\r\n",
        "data['review'] = data['review'].apply(clean)"
      ],
      "execution_count": null,
      "outputs": []
    },
    {
      "cell_type": "code",
      "metadata": {
        "colab": {
          "base_uri": "https://localhost:8080/",
          "height": 363
        },
        "id": "wV6H35D1RbdT",
        "outputId": "d4565908-0460-4b65-fa12-57cd0f648d6f"
      },
      "source": [
        "d = data.review\r\n",
        "merged =[]\r\n",
        "for doc in d:\r\n",
        "  merged.append((' '.join(doc)))\r\n",
        "\r\n",
        "data.review = merged\r\n",
        "data.head(10)"
      ],
      "execution_count": null,
      "outputs": [
        {
          "output_type": "execute_result",
          "data": {
            "text/html": [
              "<div>\n",
              "<style scoped>\n",
              "    .dataframe tbody tr th:only-of-type {\n",
              "        vertical-align: middle;\n",
              "    }\n",
              "\n",
              "    .dataframe tbody tr th {\n",
              "        vertical-align: top;\n",
              "    }\n",
              "\n",
              "    .dataframe thead th {\n",
              "        text-align: right;\n",
              "    }\n",
              "</style>\n",
              "<table border=\"1\" class=\"dataframe\">\n",
              "  <thead>\n",
              "    <tr style=\"text-align: right;\">\n",
              "      <th></th>\n",
              "      <th>review</th>\n",
              "      <th>sentiment</th>\n",
              "    </tr>\n",
              "  </thead>\n",
              "  <tbody>\n",
              "    <tr>\n",
              "      <th>0</th>\n",
              "      <td>one review mention watch oz episod youll hook ...</td>\n",
              "      <td>positive</td>\n",
              "    </tr>\n",
              "    <tr>\n",
              "      <th>1</th>\n",
              "      <td>wonder littl product br br film techniqu unass...</td>\n",
              "      <td>positive</td>\n",
              "    </tr>\n",
              "    <tr>\n",
              "      <th>2</th>\n",
              "      <td>thought wonder way spend time hot summer weeke...</td>\n",
              "      <td>positive</td>\n",
              "    </tr>\n",
              "    <tr>\n",
              "      <th>3</th>\n",
              "      <td>basic there famili littl boy jake think there ...</td>\n",
              "      <td>negative</td>\n",
              "    </tr>\n",
              "    <tr>\n",
              "      <th>4</th>\n",
              "      <td>petter mattei love time money visual stun film...</td>\n",
              "      <td>positive</td>\n",
              "    </tr>\n",
              "    <tr>\n",
              "      <th>5</th>\n",
              "      <td>probabl alltim favorit movi stori selfless sac...</td>\n",
              "      <td>positive</td>\n",
              "    </tr>\n",
              "    <tr>\n",
              "      <th>6</th>\n",
              "      <td>sure would like see resurrect date seahunt ser...</td>\n",
              "      <td>positive</td>\n",
              "    </tr>\n",
              "    <tr>\n",
              "      <th>7</th>\n",
              "      <td>show amaz fresh innov idea first air first yea...</td>\n",
              "      <td>negative</td>\n",
              "    </tr>\n",
              "    <tr>\n",
              "      <th>8</th>\n",
              "      <td>encourag posit comment film look forward watch...</td>\n",
              "      <td>negative</td>\n",
              "    </tr>\n",
              "    <tr>\n",
              "      <th>9</th>\n",
              "      <td>like origin gut wrench laughter like movi youn...</td>\n",
              "      <td>positive</td>\n",
              "    </tr>\n",
              "  </tbody>\n",
              "</table>\n",
              "</div>"
            ],
            "text/plain": [
              "                                              review sentiment\n",
              "0  one review mention watch oz episod youll hook ...  positive\n",
              "1  wonder littl product br br film techniqu unass...  positive\n",
              "2  thought wonder way spend time hot summer weeke...  positive\n",
              "3  basic there famili littl boy jake think there ...  negative\n",
              "4  petter mattei love time money visual stun film...  positive\n",
              "5  probabl alltim favorit movi stori selfless sac...  positive\n",
              "6  sure would like see resurrect date seahunt ser...  positive\n",
              "7  show amaz fresh innov idea first air first yea...  negative\n",
              "8  encourag posit comment film look forward watch...  negative\n",
              "9  like origin gut wrench laughter like movi youn...  positive"
            ]
          },
          "metadata": {
            "tags": []
          },
          "execution_count": 13
        }
      ]
    },
    {
      "cell_type": "code",
      "metadata": {
        "id": "h5blj4O4ZWgu"
      },
      "source": [
        "import pickle as pkl\r\n",
        "\r\n",
        "pkl.dump(data, open('/content/drive/MyDrive/Pie and AI Session/Sentiment Analysis/preprocessed_data.pkl', 'wb'))"
      ],
      "execution_count": null,
      "outputs": []
    },
    {
      "cell_type": "markdown",
      "metadata": {
        "id": "v_WCM66GS_j0"
      },
      "source": [
        "# Bag of Words"
      ]
    },
    {
      "cell_type": "code",
      "metadata": {
        "id": "DlWlE0KAQ98o"
      },
      "source": [
        "# Loading the preprocessed data\r\n",
        "\r\n",
        "import pickle as pkl\r\n",
        "data = pkl.load(open('/content/drive/MyDrive/Pie and AI Session/Sentiment Analysis/preprocessed_data.pkl', 'rb'))"
      ],
      "execution_count": null,
      "outputs": []
    },
    {
      "cell_type": "code",
      "metadata": {
        "colab": {
          "base_uri": "https://localhost:8080/",
          "height": 143
        },
        "id": "I3QjnRWERQ8d",
        "outputId": "98f766e8-fb76-49fb-851e-11098e537bfc"
      },
      "source": [
        "data.head(3)"
      ],
      "execution_count": null,
      "outputs": [
        {
          "output_type": "execute_result",
          "data": {
            "text/html": [
              "<div>\n",
              "<style scoped>\n",
              "    .dataframe tbody tr th:only-of-type {\n",
              "        vertical-align: middle;\n",
              "    }\n",
              "\n",
              "    .dataframe tbody tr th {\n",
              "        vertical-align: top;\n",
              "    }\n",
              "\n",
              "    .dataframe thead th {\n",
              "        text-align: right;\n",
              "    }\n",
              "</style>\n",
              "<table border=\"1\" class=\"dataframe\">\n",
              "  <thead>\n",
              "    <tr style=\"text-align: right;\">\n",
              "      <th></th>\n",
              "      <th>review</th>\n",
              "      <th>sentiment</th>\n",
              "    </tr>\n",
              "  </thead>\n",
              "  <tbody>\n",
              "    <tr>\n",
              "      <th>0</th>\n",
              "      <td>one review mention watch oz episod youll hook ...</td>\n",
              "      <td>positive</td>\n",
              "    </tr>\n",
              "    <tr>\n",
              "      <th>1</th>\n",
              "      <td>wonder littl product br br film techniqu unass...</td>\n",
              "      <td>positive</td>\n",
              "    </tr>\n",
              "    <tr>\n",
              "      <th>2</th>\n",
              "      <td>thought wonder way spend time hot summer weeke...</td>\n",
              "      <td>positive</td>\n",
              "    </tr>\n",
              "  </tbody>\n",
              "</table>\n",
              "</div>"
            ],
            "text/plain": [
              "                                              review sentiment\n",
              "0  one review mention watch oz episod youll hook ...  positive\n",
              "1  wonder littl product br br film techniqu unass...  positive\n",
              "2  thought wonder way spend time hot summer weeke...  positive"
            ]
          },
          "metadata": {
            "tags": []
          },
          "execution_count": 8
        }
      ]
    },
    {
      "cell_type": "code",
      "metadata": {
        "id": "wh7DaKKZS78H"
      },
      "source": [
        "from sklearn.feature_extraction.text import CountVectorizer\r\n",
        "from sklearn.naive_bayes import MultinomialNB"
      ],
      "execution_count": null,
      "outputs": []
    },
    {
      "cell_type": "code",
      "metadata": {
        "colab": {
          "base_uri": "https://localhost:8080/"
        },
        "id": "RNJ25AKLTOni",
        "outputId": "f91bdb92-125e-4850-fe66-617396a00e17"
      },
      "source": [
        "from sklearn.model_selection import train_test_split\r\n",
        "\r\n",
        "X_train, X_test, y_train, y_test = train_test_split(data.review, y, test_size=0.30, random_state=12)\r\n",
        "\r\n",
        "X_train.shape, X_test.shape, y_train.shape, y_test.shape"
      ],
      "execution_count": null,
      "outputs": [
        {
          "output_type": "execute_result",
          "data": {
            "text/plain": [
              "((35000,), (15000,), (35000,), (15000,))"
            ]
          },
          "metadata": {
            "tags": []
          },
          "execution_count": 10
        }
      ]
    },
    {
      "cell_type": "code",
      "metadata": {
        "id": "OYJvsyUHTaNl"
      },
      "source": [
        "vectorizer = CountVectorizer(max_features=10000)\r\n",
        "\r\n",
        "# Generate matrix of word vectors\r\n",
        "vectorizer.fit(X_train)\r\n",
        "\r\n",
        "# Create BOW feature vectors for training and testing\r\n",
        "X_train_bow = vectorizer.transform(X_train)\r\n",
        "X_test_bow = vectorizer.transform(X_test)"
      ],
      "execution_count": null,
      "outputs": []
    },
    {
      "cell_type": "code",
      "metadata": {
        "colab": {
          "base_uri": "https://localhost:8080/"
        },
        "id": "zK1zrECWTsRO",
        "outputId": "c7292914-8e05-4766-938d-d01ea439e7a0"
      },
      "source": [
        "X_train_bow[0]"
      ],
      "execution_count": null,
      "outputs": [
        {
          "output_type": "execute_result",
          "data": {
            "text/plain": [
              "<1x10000 sparse matrix of type '<class 'numpy.int64'>'\n",
              "\twith 67 stored elements in Compressed Sparse Row format>"
            ]
          },
          "metadata": {
            "tags": []
          },
          "execution_count": 12
        }
      ]
    },
    {
      "cell_type": "code",
      "metadata": {
        "id": "gJtw6fLdT1X_"
      },
      "source": [
        "X_train_bow = X_train_bow.toarray()\r\n",
        "X_test_bow = X_test_bow.toarray()"
      ],
      "execution_count": null,
      "outputs": []
    },
    {
      "cell_type": "code",
      "metadata": {
        "colab": {
          "base_uri": "https://localhost:8080/"
        },
        "id": "xdqCpEaMULd4",
        "outputId": "ab2d812f-5ebe-4cb3-fc43-1909d45b6031"
      },
      "source": [
        "X_train_bow.shape, X_test_bow.shape"
      ],
      "execution_count": null,
      "outputs": [
        {
          "output_type": "execute_result",
          "data": {
            "text/plain": [
              "((35000, 10000), (15000, 10000))"
            ]
          },
          "metadata": {
            "tags": []
          },
          "execution_count": 14
        }
      ]
    },
    {
      "cell_type": "code",
      "metadata": {
        "colab": {
          "base_uri": "https://localhost:8080/"
        },
        "id": "xeDIDNqPVMJy",
        "outputId": "cdf90f4c-0755-4202-9dbc-0c5af68cace3"
      },
      "source": [
        "X_train_bow"
      ],
      "execution_count": null,
      "outputs": [
        {
          "output_type": "execute_result",
          "data": {
            "text/plain": [
              "array([[0, 0, 0, ..., 0, 0, 0],\n",
              "       [0, 0, 0, ..., 0, 0, 0],\n",
              "       [0, 0, 0, ..., 0, 0, 0],\n",
              "       ...,\n",
              "       [0, 0, 0, ..., 0, 0, 0],\n",
              "       [0, 0, 0, ..., 0, 0, 0],\n",
              "       [0, 0, 0, ..., 0, 0, 0]])"
            ]
          },
          "metadata": {
            "tags": []
          },
          "execution_count": 15
        }
      ]
    },
    {
      "cell_type": "markdown",
      "metadata": {
        "id": "duqlPXDLVRR_"
      },
      "source": [
        "# Model Training"
      ]
    },
    {
      "cell_type": "code",
      "metadata": {
        "colab": {
          "base_uri": "https://localhost:8080/"
        },
        "id": "xUBBi06LVOIC",
        "outputId": "00c33969-f4e0-4efb-afc9-bade3bd54d3a"
      },
      "source": [
        "clf = MultinomialNB()\r\n",
        "clf.fit(X_train_bow, y_train)"
      ],
      "execution_count": null,
      "outputs": [
        {
          "output_type": "execute_result",
          "data": {
            "text/plain": [
              "MultinomialNB(alpha=1.0, class_prior=None, fit_prior=True)"
            ]
          },
          "metadata": {
            "tags": []
          },
          "execution_count": 16
        }
      ]
    },
    {
      "cell_type": "code",
      "metadata": {
        "id": "YA7rXL_lVYqt"
      },
      "source": [
        "preds = clf.predict(X_test_bow)"
      ],
      "execution_count": null,
      "outputs": []
    },
    {
      "cell_type": "code",
      "metadata": {
        "colab": {
          "base_uri": "https://localhost:8080/"
        },
        "id": "PJh6S3rVVcm8",
        "outputId": "6f759024-08ce-41d2-907b-c48c025c3763"
      },
      "source": [
        "from sklearn.metrics import confusion_matrix\r\n",
        "confusion_matrix(y_test, preds)"
      ],
      "execution_count": null,
      "outputs": [
        {
          "output_type": "execute_result",
          "data": {
            "text/plain": [
              "array([[6434, 1100],\n",
              "       [1261, 6205]])"
            ]
          },
          "metadata": {
            "tags": []
          },
          "execution_count": 18
        }
      ]
    },
    {
      "cell_type": "code",
      "metadata": {
        "colab": {
          "base_uri": "https://localhost:8080/"
        },
        "id": "rSThHgNQWBg9",
        "outputId": "853c2de0-fbeb-4c00-b5f0-3f586f588894"
      },
      "source": [
        "from sklearn.metrics import accuracy_score, classification_report\r\n",
        "print(accuracy_score(y_test, preds))\r\n",
        "print(classification_report(y_test, preds))"
      ],
      "execution_count": null,
      "outputs": [
        {
          "output_type": "stream",
          "text": [
            "0.8426\n",
            "              precision    recall  f1-score   support\n",
            "\n",
            "           0       0.84      0.85      0.84      7534\n",
            "           1       0.85      0.83      0.84      7466\n",
            "\n",
            "    accuracy                           0.84     15000\n",
            "   macro avg       0.84      0.84      0.84     15000\n",
            "weighted avg       0.84      0.84      0.84     15000\n",
            "\n"
          ],
          "name": "stdout"
        }
      ]
    },
    {
      "cell_type": "markdown",
      "metadata": {
        "id": "X5QD51XjWKYK"
      },
      "source": [
        "# Using TF-IDF feature vectors"
      ]
    },
    {
      "cell_type": "code",
      "metadata": {
        "id": "90Gen8RgWJZn"
      },
      "source": [
        "from sklearn.feature_extraction.text import TfidfVectorizer\r\n",
        "\r\n",
        "vectorizer = TfidfVectorizer(max_features=10000)\r\n",
        "\r\n",
        "vectorizer.fit(X_train)\r\n",
        "\r\n",
        "X_train_tfidf = vectorizer.transform(X_train)\r\n",
        "X_test_tfidf = vectorizer.transform(X_test)"
      ],
      "execution_count": null,
      "outputs": []
    },
    {
      "cell_type": "code",
      "metadata": {
        "id": "y2GCxc5wWEYF"
      },
      "source": [
        "X_train_tfidf = X_train_tfidf.toarray()\r\n",
        "X_test_tfidf = X_test_tfidf.toarray()"
      ],
      "execution_count": null,
      "outputs": []
    },
    {
      "cell_type": "code",
      "metadata": {
        "colab": {
          "base_uri": "https://localhost:8080/"
        },
        "id": "Osu6OX-HWoYN",
        "outputId": "517000d3-f22b-466d-c6d7-29b064845e06"
      },
      "source": [
        "clf1 = MultinomialNB()\r\n",
        "clf1.fit(X_train_tfidf, y_train)"
      ],
      "execution_count": null,
      "outputs": [
        {
          "output_type": "execute_result",
          "data": {
            "text/plain": [
              "MultinomialNB(alpha=1.0, class_prior=None, fit_prior=True)"
            ]
          },
          "metadata": {
            "tags": []
          },
          "execution_count": 24
        }
      ]
    },
    {
      "cell_type": "code",
      "metadata": {
        "colab": {
          "base_uri": "https://localhost:8080/"
        },
        "id": "GLcytE5bWqqx",
        "outputId": "94e798a1-24d0-41bd-cc0c-b0cc79c6481b"
      },
      "source": [
        "preds1 = clf.predict(X_test_tfidf)\r\n",
        "\r\n",
        "confusion_matrix(y_test, preds1)"
      ],
      "execution_count": null,
      "outputs": [
        {
          "output_type": "execute_result",
          "data": {
            "text/plain": [
              "array([[6135, 1399],\n",
              "       [1036, 6430]])"
            ]
          },
          "metadata": {
            "tags": []
          },
          "execution_count": 25
        }
      ]
    },
    {
      "cell_type": "code",
      "metadata": {
        "colab": {
          "base_uri": "https://localhost:8080/"
        },
        "id": "Lz-I64BUWySB",
        "outputId": "3d113ef9-e6e9-4e83-a015-bbb836b7389f"
      },
      "source": [
        "print(accuracy_score(y_test, preds1))\r\n",
        "print(classification_report(y_test, preds1))"
      ],
      "execution_count": null,
      "outputs": [
        {
          "output_type": "stream",
          "text": [
            "0.8376666666666667\n",
            "              precision    recall  f1-score   support\n",
            "\n",
            "           0       0.86      0.81      0.83      7534\n",
            "           1       0.82      0.86      0.84      7466\n",
            "\n",
            "    accuracy                           0.84     15000\n",
            "   macro avg       0.84      0.84      0.84     15000\n",
            "weighted avg       0.84      0.84      0.84     15000\n",
            "\n"
          ],
          "name": "stdout"
        }
      ]
    }
  ]
}
{
  "nbformat": 4,
  "nbformat_minor": 0,
  "metadata": {
    "colab": {
      "name": "SentimentAnalysis.ipynb",
      "provenance": [],
      "mount_file_id": "1k2UBFukgWH--Uin4GyIArzElX5KY17Ip",
      "authorship_tag": "ABX9TyMLbJQaPtYk3wNuclhQwXJc",
      "include_colab_link": true
    },
    "kernelspec": {
      "name": "python3",
      "display_name": "Python 3"
    }
  },
  "cells": [
    {
      "cell_type": "markdown",
      "metadata": {
        "id": "view-in-github",
        "colab_type": "text"
      },
      "source": [
        "<a href=\"https://colab.research.google.com/github/debolina201/SentimentAnalysis/blob/master/SentimentAnalysis.ipynb\" target=\"_parent\"><img src=\"https://colab.research.google.com/assets/colab-badge.svg\" alt=\"Open In Colab\"/></a>"
      ]
    },
    {
      "cell_type": "markdown",
      "metadata": {
        "id": "tJIVD1xEKef5",
        "colab_type": "text"
      },
      "source": [
        "# 1: Loading and exploring the dataset"
      ]
    },
    {
      "cell_type": "code",
      "metadata": {
        "id": "JGiQDqCducsX",
        "colab_type": "code",
        "colab": {
          "base_uri": "https://localhost:8080/",
          "height": 206
        },
        "outputId": "297f7a48-4b14-4493-959d-b955d400c440"
      },
      "source": [
        "import pandas as pd\n",
        "data = pd.read_excel('/content/drive/My Drive/Datasets/ReviewsFileName.xlsx')\n",
        "data.head(5)"
      ],
      "execution_count": 8,
      "outputs": [
        {
          "output_type": "execute_result",
          "data": {
            "text/html": [
              "<div>\n",
              "<style scoped>\n",
              "    .dataframe tbody tr th:only-of-type {\n",
              "        vertical-align: middle;\n",
              "    }\n",
              "\n",
              "    .dataframe tbody tr th {\n",
              "        vertical-align: top;\n",
              "    }\n",
              "\n",
              "    .dataframe thead th {\n",
              "        text-align: right;\n",
              "    }\n",
              "</style>\n",
              "<table border=\"1\" class=\"dataframe\">\n",
              "  <thead>\n",
              "    <tr style=\"text-align: right;\">\n",
              "      <th></th>\n",
              "      <th>Review</th>\n",
              "      <th>Sentiment</th>\n",
              "    </tr>\n",
              "  </thead>\n",
              "  <tbody>\n",
              "    <tr>\n",
              "      <th>0</th>\n",
              "      <td>the rock is destined to be the 21st century's ...</td>\n",
              "      <td>0</td>\n",
              "    </tr>\n",
              "    <tr>\n",
              "      <th>1</th>\n",
              "      <td>the gorgeously elaborate continuation of \" the...</td>\n",
              "      <td>0</td>\n",
              "    </tr>\n",
              "    <tr>\n",
              "      <th>2</th>\n",
              "      <td>effective but too-tepid biopic\\n</td>\n",
              "      <td>0</td>\n",
              "    </tr>\n",
              "    <tr>\n",
              "      <th>3</th>\n",
              "      <td>if you sometimes like to go to the movies to h...</td>\n",
              "      <td>0</td>\n",
              "    </tr>\n",
              "    <tr>\n",
              "      <th>4</th>\n",
              "      <td>emerges as something rare , an issue movie tha...</td>\n",
              "      <td>0</td>\n",
              "    </tr>\n",
              "  </tbody>\n",
              "</table>\n",
              "</div>"
            ],
            "text/plain": [
              "                                              Review  Sentiment\n",
              "0  the rock is destined to be the 21st century's ...          0\n",
              "1  the gorgeously elaborate continuation of \" the...          0\n",
              "2                   effective but too-tepid biopic\\n          0\n",
              "3  if you sometimes like to go to the movies to h...          0\n",
              "4  emerges as something rare , an issue movie tha...          0"
            ]
          },
          "metadata": {
            "tags": []
          },
          "execution_count": 8
        }
      ]
    },
    {
      "cell_type": "code",
      "metadata": {
        "id": "SeITy3cXoRz6",
        "colab_type": "code",
        "colab": {
          "base_uri": "https://localhost:8080/",
          "height": 227
        },
        "outputId": "31a499c2-e184-49f8-aa7f-ebc105efca91"
      },
      "source": [
        "data.Review[:10]"
      ],
      "execution_count": 9,
      "outputs": [
        {
          "output_type": "execute_result",
          "data": {
            "text/plain": [
              "0    the rock is destined to be the 21st century's ...\n",
              "1    the gorgeously elaborate continuation of \" the...\n",
              "2                     effective but too-tepid biopic\\n\n",
              "3    if you sometimes like to go to the movies to h...\n",
              "4    emerges as something rare , an issue movie tha...\n",
              "5    the film provides some great insight into the ...\n",
              "6    offers that rare combination of entertainment ...\n",
              "7    perhaps no picture ever made has more literall...\n",
              "8    steers turns in a snappy screenplay that curls...\n",
              "9    take care of my cat offers a refreshingly diff...\n",
              "Name: Review, dtype: object"
            ]
          },
          "metadata": {
            "tags": []
          },
          "execution_count": 9
        }
      ]
    },
    {
      "cell_type": "code",
      "metadata": {
        "id": "1eU01wZWoiO_",
        "colab_type": "code",
        "colab": {
          "base_uri": "https://localhost:8080/",
          "height": 55
        },
        "outputId": "5e1f7e73-d073-4ba1-c2f4-9da267490666"
      },
      "source": [
        "print(data.Review[3500])"
      ],
      "execution_count": 10,
      "outputs": [
        {
          "output_type": "stream",
          "text": [
            "the filmmakers wisely decided to let crocodile hunter steve irwin do what he does best , and fashion a story around him . \n",
            "\n"
          ],
          "name": "stdout"
        }
      ]
    },
    {
      "cell_type": "markdown",
      "metadata": {
        "id": "zYoqKNC-Kmup",
        "colab_type": "text"
      },
      "source": [
        "# 2: Data Preprocessing\n",
        "\n",
        "* Lowercasing\n",
        "* Removal of non-alphabetical characters\n",
        "* Tokenization\n",
        "* Stop-word removal\n",
        "* Stemming"
      ]
    },
    {
      "cell_type": "code",
      "metadata": {
        "id": "fKr-pAZcotfy",
        "colab_type": "code",
        "colab": {}
      },
      "source": [
        "import nltk\n",
        "import re\n",
        "import string\n",
        "'''\n",
        "nltk.download('punkt')\n",
        "nltk.download('stopwords')\n",
        "nltk.download('wordnet')\n",
        "'''\n",
        "from nltk.tokenize import word_tokenize\n",
        "from nltk.corpus import stopwords\n",
        "from nltk.stem import PorterStemmer\n",
        "\n",
        "stop = stopwords.words('english')\n",
        "punc = string.punctuation"
      ],
      "execution_count": 11,
      "outputs": []
    },
    {
      "cell_type": "code",
      "metadata": {
        "id": "_6zb0DwJurQk",
        "colab_type": "code",
        "colab": {}
      },
      "source": [
        "data['Review'] = data['Review'].str.lower() #lowercasing\n",
        "data['Review'] = data['Review'].str.replace('[^a-z\\s]', '') #removing non-alphabetical chars"
      ],
      "execution_count": 12,
      "outputs": []
    },
    {
      "cell_type": "code",
      "metadata": {
        "id": "nNhexhz0x-OF",
        "colab_type": "code",
        "colab": {
          "base_uri": "https://localhost:8080/",
          "height": 56
        },
        "outputId": "dfacb006-23b9-4aa2-dcfe-3dd41dc77abb"
      },
      "source": [
        "data['Review'] = data['Review'].apply(word_tokenize)\n",
        "print(data.Review[3500])"
      ],
      "execution_count": 13,
      "outputs": [
        {
          "output_type": "stream",
          "text": [
            "['the', 'filmmakers', 'wisely', 'decided', 'to', 'let', 'crocodile', 'hunter', 'steve', 'irwin', 'do', 'what', 'he', 'does', 'best', 'and', 'fashion', 'a', 'story', 'around', 'him']\n"
          ],
          "name": "stdout"
        }
      ]
    },
    {
      "cell_type": "code",
      "metadata": {
        "id": "HK__zPuEyocZ",
        "colab_type": "code",
        "colab": {}
      },
      "source": [
        "stemmer = PorterStemmer()\n",
        "\n",
        "def clean(df):\n",
        "  cleaned_tokens = []\n",
        "  for word in df:\n",
        "    if(word not in stop and word not in punc):\n",
        "      cleaned_tokens.append(stemmer.stem(word))\n",
        "  return cleaned_tokens\n",
        "\n",
        "data['Review'] = data['Review'].apply(clean)"
      ],
      "execution_count": 14,
      "outputs": []
    },
    {
      "cell_type": "code",
      "metadata": {
        "id": "gTe6e98xzyCq",
        "colab_type": "code",
        "colab": {
          "base_uri": "https://localhost:8080/",
          "height": 36
        },
        "outputId": "3ac47062-52d5-412d-b8a4-5820712650d3"
      },
      "source": [
        "print(data.Review[3500])"
      ],
      "execution_count": 15,
      "outputs": [
        {
          "output_type": "stream",
          "text": [
            "['filmmak', 'wise', 'decid', 'let', 'crocodil', 'hunter', 'steve', 'irwin', 'best', 'fashion', 'stori', 'around']\n"
          ],
          "name": "stdout"
        }
      ]
    },
    {
      "cell_type": "code",
      "metadata": {
        "id": "5uunV5-Yz-VF",
        "colab_type": "code",
        "colab": {
          "base_uri": "https://localhost:8080/",
          "height": 143
        },
        "outputId": "60c79c8f-b79c-41b6-83c4-ed8dccebb685"
      },
      "source": [
        "data.head(3)"
      ],
      "execution_count": 16,
      "outputs": [
        {
          "output_type": "execute_result",
          "data": {
            "text/html": [
              "<div>\n",
              "<style scoped>\n",
              "    .dataframe tbody tr th:only-of-type {\n",
              "        vertical-align: middle;\n",
              "    }\n",
              "\n",
              "    .dataframe tbody tr th {\n",
              "        vertical-align: top;\n",
              "    }\n",
              "\n",
              "    .dataframe thead th {\n",
              "        text-align: right;\n",
              "    }\n",
              "</style>\n",
              "<table border=\"1\" class=\"dataframe\">\n",
              "  <thead>\n",
              "    <tr style=\"text-align: right;\">\n",
              "      <th></th>\n",
              "      <th>Review</th>\n",
              "      <th>Sentiment</th>\n",
              "    </tr>\n",
              "  </thead>\n",
              "  <tbody>\n",
              "    <tr>\n",
              "      <th>0</th>\n",
              "      <td>[rock, destin, st, centuri, new, conan, he, go...</td>\n",
              "      <td>0</td>\n",
              "    </tr>\n",
              "    <tr>\n",
              "      <th>1</th>\n",
              "      <td>[gorgeous, elabor, continu, lord, ring, trilog...</td>\n",
              "      <td>0</td>\n",
              "    </tr>\n",
              "    <tr>\n",
              "      <th>2</th>\n",
              "      <td>[effect, tootepid, biopic]</td>\n",
              "      <td>0</td>\n",
              "    </tr>\n",
              "  </tbody>\n",
              "</table>\n",
              "</div>"
            ],
            "text/plain": [
              "                                              Review  Sentiment\n",
              "0  [rock, destin, st, centuri, new, conan, he, go...          0\n",
              "1  [gorgeous, elabor, continu, lord, ring, trilog...          0\n",
              "2                         [effect, tootepid, biopic]          0"
            ]
          },
          "metadata": {
            "tags": []
          },
          "execution_count": 16
        }
      ]
    },
    {
      "cell_type": "markdown",
      "metadata": {
        "id": "p51p_QHAMwZA",
        "colab_type": "text"
      },
      "source": [
        "# 3: Analysis of Data (here, word frequency distribution analysis)"
      ]
    },
    {
      "cell_type": "code",
      "metadata": {
        "id": "FHqLCiwx0rXC",
        "colab_type": "code",
        "colab": {}
      },
      "source": [
        "from nltk.probability import FreqDist\n",
        "\n",
        "fdist = FreqDist()\n",
        "for doc in data.Review:\n",
        "  for word in doc:\n",
        "    fdist[word] += 1"
      ],
      "execution_count": 17,
      "outputs": []
    },
    {
      "cell_type": "code",
      "metadata": {
        "id": "4UIck4k95q9O",
        "colab_type": "code",
        "colab": {
          "base_uri": "https://localhost:8080/",
          "height": 56
        },
        "outputId": "4573404a-c61c-4e90-81dd-2c64a9447ca1"
      },
      "source": [
        "vocab = fdist.most_common(50)\n",
        "print(vocab)"
      ],
      "execution_count": 18,
      "outputs": [
        {
          "output_type": "stream",
          "text": [
            "[('film', 1804), ('movi', 1544), ('like', 805), ('one', 763), ('make', 611), ('stori', 536), ('charact', 483), ('time', 466), ('comedi', 392), ('good', 389), ('even', 388), ('much', 386), ('work', 368), ('perform', 359), ('feel', 337), ('way', 336), ('get', 310), ('littl', 302), ('love', 296), ('look', 294), ('funni', 285), ('director', 274), ('enough', 267), ('never', 262), ('take', 249), ('may', 245), ('come', 242), ('us', 241), ('seem', 240), ('thing', 240), ('bad', 238), ('best', 237), ('doesnt', 232), ('life', 232), ('entertain', 231), ('see', 231), ('end', 231), ('watch', 226), ('would', 222), ('well', 220), ('plot', 212), ('there', 211), ('new', 207), ('year', 204), ('go', 201), ('someth', 201), ('interest', 200), ('could', 199), ('realli', 197), ('audienc', 196)]\n"
          ],
          "name": "stdout"
        }
      ]
    },
    {
      "cell_type": "code",
      "metadata": {
        "id": "IDpA-zVu5sI7",
        "colab_type": "code",
        "colab": {}
      },
      "source": [
        "lst = [tup[0] for tup in vocab] #most common 50 words are stored in lst"
      ],
      "execution_count": 19,
      "outputs": []
    },
    {
      "cell_type": "code",
      "metadata": {
        "id": "2wiwCeOl93SO",
        "colab_type": "code",
        "colab": {}
      },
      "source": [
        "with open('nlargest.txt', 'w') as f:\n",
        "    for item in lst:\n",
        "        f.write(\"%s\\n\" % item)"
      ],
      "execution_count": 20,
      "outputs": []
    },
    {
      "cell_type": "markdown",
      "metadata": {
        "id": "pAd-1UngNK3Z",
        "colab_type": "text"
      },
      "source": [
        "# 4. Feature preparation"
      ]
    },
    {
      "cell_type": "code",
      "metadata": {
        "id": "9cAyzHwJBVe_",
        "colab_type": "code",
        "colab": {}
      },
      "source": [
        "from sklearn.feature_extraction.text import TfidfVectorizer, TfidfTransformer, CountVectorizer\n",
        "from sklearn.naive_bayes import MultinomialNB"
      ],
      "execution_count": 21,
      "outputs": []
    },
    {
      "cell_type": "code",
      "metadata": {
        "id": "MkEKwQcWGBCN",
        "colab_type": "code",
        "colab": {
          "base_uri": "https://localhost:8080/",
          "height": 363
        },
        "outputId": "4d295b72-868d-488b-cdc0-3d5614a5fd6a"
      },
      "source": [
        "# Preparing data to create TF-IDF features\n",
        "\n",
        "d = data.Review\n",
        "merged =[]\n",
        "for doc in d:\n",
        "  merged.append((' '.join(doc)))\n",
        "\n",
        "data.Review = merged\n",
        "data.head(10)"
      ],
      "execution_count": 22,
      "outputs": [
        {
          "output_type": "execute_result",
          "data": {
            "text/html": [
              "<div>\n",
              "<style scoped>\n",
              "    .dataframe tbody tr th:only-of-type {\n",
              "        vertical-align: middle;\n",
              "    }\n",
              "\n",
              "    .dataframe tbody tr th {\n",
              "        vertical-align: top;\n",
              "    }\n",
              "\n",
              "    .dataframe thead th {\n",
              "        text-align: right;\n",
              "    }\n",
              "</style>\n",
              "<table border=\"1\" class=\"dataframe\">\n",
              "  <thead>\n",
              "    <tr style=\"text-align: right;\">\n",
              "      <th></th>\n",
              "      <th>Review</th>\n",
              "      <th>Sentiment</th>\n",
              "    </tr>\n",
              "  </thead>\n",
              "  <tbody>\n",
              "    <tr>\n",
              "      <th>0</th>\n",
              "      <td>rock destin st centuri new conan he go make sp...</td>\n",
              "      <td>0</td>\n",
              "    </tr>\n",
              "    <tr>\n",
              "      <th>1</th>\n",
              "      <td>gorgeous elabor continu lord ring trilog huge ...</td>\n",
              "      <td>0</td>\n",
              "    </tr>\n",
              "    <tr>\n",
              "      <th>2</th>\n",
              "      <td>effect tootepid biopic</td>\n",
              "      <td>0</td>\n",
              "    </tr>\n",
              "    <tr>\n",
              "      <th>3</th>\n",
              "      <td>sometim like go movi fun wasabi good place start</td>\n",
              "      <td>0</td>\n",
              "    </tr>\n",
              "    <tr>\n",
              "      <th>4</th>\n",
              "      <td>emerg someth rare issu movi that honest keenli...</td>\n",
              "      <td>0</td>\n",
              "    </tr>\n",
              "    <tr>\n",
              "      <th>5</th>\n",
              "      <td>film provid great insight neurot mindset comic...</td>\n",
              "      <td>0</td>\n",
              "    </tr>\n",
              "    <tr>\n",
              "      <th>6</th>\n",
              "      <td>offer rare combin entertain educ</td>\n",
              "      <td>0</td>\n",
              "    </tr>\n",
              "    <tr>\n",
              "      <th>7</th>\n",
              "      <td>perhap pictur ever made liter show road hell p...</td>\n",
              "      <td>0</td>\n",
              "    </tr>\n",
              "    <tr>\n",
              "      <th>8</th>\n",
              "      <td>steer turn snappi screenplay curl edg clever w...</td>\n",
              "      <td>0</td>\n",
              "    </tr>\n",
              "    <tr>\n",
              "      <th>9</th>\n",
              "      <td>take care cat offer refreshingli differ slice ...</td>\n",
              "      <td>0</td>\n",
              "    </tr>\n",
              "  </tbody>\n",
              "</table>\n",
              "</div>"
            ],
            "text/plain": [
              "                                              Review  Sentiment\n",
              "0  rock destin st centuri new conan he go make sp...          0\n",
              "1  gorgeous elabor continu lord ring trilog huge ...          0\n",
              "2                             effect tootepid biopic          0\n",
              "3   sometim like go movi fun wasabi good place start          0\n",
              "4  emerg someth rare issu movi that honest keenli...          0\n",
              "5  film provid great insight neurot mindset comic...          0\n",
              "6                   offer rare combin entertain educ          0\n",
              "7  perhap pictur ever made liter show road hell p...          0\n",
              "8  steer turn snappi screenplay curl edg clever w...          0\n",
              "9  take care cat offer refreshingli differ slice ...          0"
            ]
          },
          "metadata": {
            "tags": []
          },
          "execution_count": 22
        }
      ]
    },
    {
      "cell_type": "code",
      "metadata": {
        "id": "7v0CSi-3Jgo4",
        "colab_type": "code",
        "colab": {}
      },
      "source": [
        "# Create TfidfVectorizer object\n",
        "vectorizer = TfidfVectorizer(ngram_range=(1,2))\n",
        "\n",
        "# Generate matrix of word vectors\n",
        "tfidf_matrix = vectorizer.fit_transform(data.Review)"
      ],
      "execution_count": 24,
      "outputs": []
    },
    {
      "cell_type": "code",
      "metadata": {
        "id": "gEycYNVOOZEx",
        "colab_type": "code",
        "colab": {
          "base_uri": "https://localhost:8080/",
          "height": 170
        },
        "outputId": "b66298cb-e119-4efc-b3d2-8d3b3aeefb28"
      },
      "source": [
        "print(tfidf_matrix.shape)\n",
        "print(tfidf_matrix.toarray())"
      ],
      "execution_count": 25,
      "outputs": [
        {
          "output_type": "stream",
          "text": [
            "(10662, 102003)\n",
            "[[0. 0. 0. ... 0. 0. 0.]\n",
            " [0. 0. 0. ... 0. 0. 0.]\n",
            " [0. 0. 0. ... 0. 0. 0.]\n",
            " ...\n",
            " [0. 0. 0. ... 0. 0. 0.]\n",
            " [0. 0. 0. ... 0. 0. 0.]\n",
            " [0. 0. 0. ... 0. 0. 0.]]\n"
          ],
          "name": "stdout"
        }
      ]
    },
    {
      "cell_type": "markdown",
      "metadata": {
        "id": "hzvv2BRUQ_Rp",
        "colab_type": "text"
      },
      "source": [
        "# 5: Training\n",
        "\n",
        "The multinomial Naive Bayes classifier is suitable for classification with discrete features (e.g., word counts for text classification). The multinomial distribution normally requires integer feature counts. However, in practice, fractional counts such as tf-idf may also work."
      ]
    },
    {
      "cell_type": "code",
      "metadata": {
        "id": "Eq4EjNyDAC3K",
        "colab_type": "code",
        "colab": {}
      },
      "source": [
        "from sklearn.model_selection import train_test_split\n",
        "X_train, X_test, y_train, y_test = train_test_split(tfidf_matrix, data.Sentiment, test_size=0.33, random_state=42)"
      ],
      "execution_count": 27,
      "outputs": []
    },
    {
      "cell_type": "code",
      "metadata": {
        "id": "20NMKMO4Iy01",
        "colab_type": "code",
        "colab": {
          "base_uri": "https://localhost:8080/",
          "height": 590
        },
        "outputId": "ccdf5b80-19cb-4ab1-fa3e-91535c01f85d"
      },
      "source": [
        "print(X_train[0])\n",
        "print(X_train.shape)"
      ],
      "execution_count": 28,
      "outputs": [
        {
          "output_type": "stream",
          "text": [
            "  (0, 55201)\t0.20860710848171762\n",
            "  (0, 13529)\t0.20860710848171762\n",
            "  (0, 26821)\t0.20860710848171762\n",
            "  (0, 46838)\t0.20860710848171762\n",
            "  (0, 38675)\t0.20860710848171762\n",
            "  (0, 18898)\t0.20860710848171762\n",
            "  (0, 62815)\t0.20860710848171762\n",
            "  (0, 3354)\t0.20860710848171762\n",
            "  (0, 58484)\t0.20860710848171762\n",
            "  (0, 5336)\t0.20860710848171762\n",
            "  (0, 74380)\t0.20860710848171762\n",
            "  (0, 44173)\t0.20860710848171762\n",
            "  (0, 96420)\t0.20860710848171762\n",
            "  (0, 26820)\t0.20860710848171762\n",
            "  (0, 3353)\t0.20860710848171762\n",
            "  (0, 74379)\t0.20860710848171762\n",
            "  (0, 44166)\t0.17356623626397244\n",
            "  (0, 96413)\t0.16201333534313217\n",
            "  (0, 55175)\t0.14338367178671627\n",
            "  (0, 3067)\t0.199779274284321\n",
            "  (0, 99810)\t0.12998977743204018\n",
            "  (0, 3062)\t0.14692205310450412\n",
            "  (0, 5255)\t0.10911847868627512\n",
            "  (0, 18888)\t0.1511492407703165\n",
            "  (0, 62810)\t0.1398725226401414\n",
            "  (0, 46837)\t0.199779274284321\n",
            "  (0, 38672)\t0.17149113177825626\n",
            "  (0, 58472)\t0.09431106119946413\n",
            "  (0, 13490)\t0.1259712698115124\n",
            "(7143, 102003)\n"
          ],
          "name": "stdout"
        }
      ]
    },
    {
      "cell_type": "code",
      "metadata": {
        "id": "SntdJMpeNl_F",
        "colab_type": "code",
        "colab": {
          "base_uri": "https://localhost:8080/",
          "height": 36
        },
        "outputId": "01a19868-3f8c-4373-9277-5ef39f7e328a"
      },
      "source": [
        "clf = MultinomialNB()\n",
        "clf.fit(X_train, y_train)"
      ],
      "execution_count": 29,
      "outputs": [
        {
          "output_type": "execute_result",
          "data": {
            "text/plain": [
              "MultinomialNB(alpha=1.0, class_prior=None, fit_prior=True)"
            ]
          },
          "metadata": {
            "tags": []
          },
          "execution_count": 29
        }
      ]
    },
    {
      "cell_type": "code",
      "metadata": {
        "id": "N9FpNDFCRFXy",
        "colab_type": "code",
        "colab": {}
      },
      "source": [
        "preds = clf.predict(X_test)"
      ],
      "execution_count": 30,
      "outputs": []
    },
    {
      "cell_type": "code",
      "metadata": {
        "id": "QDkVCZaLRJxb",
        "colab_type": "code",
        "colab": {
          "base_uri": "https://localhost:8080/",
          "height": 55
        },
        "outputId": "be5eafd6-3b24-4c05-b0be-27206f4cb519"
      },
      "source": [
        "from sklearn.metrics import confusion_matrix\n",
        "confusion_matrix(y_test, preds)"
      ],
      "execution_count": 31,
      "outputs": [
        {
          "output_type": "execute_result",
          "data": {
            "text/plain": [
              "array([[1366,  412],\n",
              "       [ 396, 1345]])"
            ]
          },
          "metadata": {
            "tags": []
          },
          "execution_count": 31
        }
      ]
    },
    {
      "cell_type": "code",
      "metadata": {
        "id": "hFvrfJdwT12T",
        "colab_type": "code",
        "colab": {
          "base_uri": "https://localhost:8080/",
          "height": 36
        },
        "outputId": "184b9258-2487-4247-8bbe-05e877d515b9"
      },
      "source": [
        "from sklearn.metrics import accuracy_score\n",
        "accuracy_score(y_test, preds)"
      ],
      "execution_count": 32,
      "outputs": [
        {
          "output_type": "execute_result",
          "data": {
            "text/plain": [
              "0.7703893151463483"
            ]
          },
          "metadata": {
            "tags": []
          },
          "execution_count": 32
        }
      ]
    }
  ]
}